{
  "nbformat": 4,
  "nbformat_minor": 0,
  "metadata": {
    "colab": {
      "name": "geocode_v_1.ipynb",
      "version": "0.3.2",
      "provenance": [],
      "collapsed_sections": []
    },
    "language_info": {
      "codemirror_mode": {
        "name": "ipython",
        "version": 3
      },
      "file_extension": ".py",
      "mimetype": "text/x-python",
      "name": "python",
      "nbconvert_exporter": "python",
      "pygments_lexer": "ipython3",
      "version": "3.7.3"
    },
    "kernelspec": {
      "display_name": "Python 3",
      "language": "python",
      "name": "python3"
    }
  },
  "cells": [
    {
      "cell_type": "markdown",
      "metadata": {
        "id": "5Oa-0CF5QRl-",
        "colab_type": "text"
      },
      "source": [
        "#**Geocode version 1.0**\n",
        "\n",
        "data is taken from economic census of banglore(BBMP). \n"
      ]
    },
    {
      "cell_type": "markdown",
      "metadata": {
        "id": "H9nEnMx0RT3R",
        "colab_type": "text"
      },
      "source": [
        "***import libraries***"
      ]
    },
    {
      "cell_type": "code",
      "metadata": {
        "id": "uAKpm7ckLf1S",
        "colab_type": "code",
        "colab": {}
      },
      "source": [
        "import requests\n",
        "import time\n",
        "import json\n",
        "import pandas as pd"
      ],
      "execution_count": 0,
      "outputs": []
    },
    {
      "cell_type": "markdown",
      "metadata": {
        "id": "0yBfbSogReb4",
        "colab_type": "text"
      },
      "source": [
        "places.csv is extracted details of places , streets and addresses from BBMP data"
      ]
    },
    {
      "cell_type": "code",
      "metadata": {
        "id": "wU5eIE6lLf1m",
        "colab_type": "code",
        "colab": {}
      },
      "source": [
        "df=pd.read_csv(\"places.csv\")"
      ],
      "execution_count": 0,
      "outputs": []
    },
    {
      "cell_type": "code",
      "metadata": {
        "id": "cD5i0UFiLf1y",
        "colab_type": "code",
        "outputId": "b5b46b1f-1088-44e6-bcf6-e6e517e25b0c",
        "colab": {}
      },
      "source": [
        "df.info()"
      ],
      "execution_count": 0,
      "outputs": [
        {
          "output_type": "stream",
          "text": [
            "<class 'pandas.core.frame.DataFrame'>\n",
            "RangeIndex: 527 entries, 0 to 526\n",
            "Data columns (total 2 columns):\n",
            "Unnamed: 0    527 non-null int64\n",
            "places        527 non-null object\n",
            "dtypes: int64(1), object(1)\n",
            "memory usage: 6.2+ KB\n"
          ],
          "name": "stdout"
        }
      ]
    },
    {
      "cell_type": "code",
      "metadata": {
        "id": "UvpKezFMLf2H",
        "colab_type": "code",
        "colab": {}
      },
      "source": [
        "df=df.drop(\"Unnamed: 0\",1)"
      ],
      "execution_count": 0,
      "outputs": []
    },
    {
      "cell_type": "code",
      "metadata": {
        "id": "2WAu63e_Lf2T",
        "colab_type": "code",
        "outputId": "87c7b522-460e-4fba-949e-61e554893863",
        "colab": {}
      },
      "source": [
        "df.info()"
      ],
      "execution_count": 0,
      "outputs": [
        {
          "output_type": "stream",
          "text": [
            "<class 'pandas.core.frame.DataFrame'>\n",
            "RangeIndex: 527 entries, 0 to 526\n",
            "Data columns (total 1 columns):\n",
            "places    527 non-null object\n",
            "dtypes: object(1)\n",
            "memory usage: 2.1+ KB\n"
          ],
          "name": "stdout"
        }
      ]
    },
    {
      "cell_type": "code",
      "metadata": {
        "id": "-j1_8QlvLf2j",
        "colab_type": "code",
        "colab": {}
      },
      "source": [
        "import numpy as np"
      ],
      "execution_count": 0,
      "outputs": []
    },
    {
      "cell_type": "code",
      "metadata": {
        "id": "tM0EnvJlLf2u",
        "colab_type": "code",
        "colab": {}
      },
      "source": [
        "df[\"latitude\"]=np.nan"
      ],
      "execution_count": 0,
      "outputs": []
    },
    {
      "cell_type": "code",
      "metadata": {
        "id": "6iddz9GHLf25",
        "colab_type": "code",
        "colab": {}
      },
      "source": [
        "df[\"longitude\"]=np.nan"
      ],
      "execution_count": 0,
      "outputs": []
    },
    {
      "cell_type": "code",
      "metadata": {
        "id": "D1Dc5PJTLf3E",
        "colab_type": "code",
        "colab": {}
      },
      "source": [
        "df[\"class\"]=np.nan"
      ],
      "execution_count": 0,
      "outputs": []
    },
    {
      "cell_type": "code",
      "metadata": {
        "id": "BRfwiHliLf3R",
        "colab_type": "code",
        "colab": {}
      },
      "source": [
        "df[\"type\"]=np.nan"
      ],
      "execution_count": 0,
      "outputs": []
    },
    {
      "cell_type": "code",
      "metadata": {
        "id": "VYFMepHyLf3c",
        "colab_type": "code",
        "outputId": "3d55ea31-d7a5-45fd-f10d-aed1cb1aedf6",
        "colab": {}
      },
      "source": [
        "df.head(10)"
      ],
      "execution_count": 0,
      "outputs": [
        {
          "output_type": "execute_result",
          "data": {
            "text/html": [
              "<div>\n",
              "<style scoped>\n",
              "    .dataframe tbody tr th:only-of-type {\n",
              "        vertical-align: middle;\n",
              "    }\n",
              "\n",
              "    .dataframe tbody tr th {\n",
              "        vertical-align: top;\n",
              "    }\n",
              "\n",
              "    .dataframe thead th {\n",
              "        text-align: right;\n",
              "    }\n",
              "</style>\n",
              "<table border=\"1\" class=\"dataframe\">\n",
              "  <thead>\n",
              "    <tr style=\"text-align: right;\">\n",
              "      <th></th>\n",
              "      <th>places</th>\n",
              "      <th>latitude</th>\n",
              "      <th>longitude</th>\n",
              "      <th>class</th>\n",
              "      <th>type</th>\n",
              "    </tr>\n",
              "  </thead>\n",
              "  <tbody>\n",
              "    <tr>\n",
              "      <th>0</th>\n",
              "      <td>KANNURU</td>\n",
              "      <td>NaN</td>\n",
              "      <td>NaN</td>\n",
              "      <td>NaN</td>\n",
              "      <td>NaN</td>\n",
              "    </tr>\n",
              "    <tr>\n",
              "      <th>1</th>\n",
              "      <td>DODDA BANASHALLI</td>\n",
              "      <td>NaN</td>\n",
              "      <td>NaN</td>\n",
              "      <td>NaN</td>\n",
              "      <td>NaN</td>\n",
              "    </tr>\n",
              "    <tr>\n",
              "      <th>2</th>\n",
              "      <td>MAHADEVAPURA,</td>\n",
              "      <td>NaN</td>\n",
              "      <td>NaN</td>\n",
              "      <td>NaN</td>\n",
              "      <td>NaN</td>\n",
              "    </tr>\n",
              "    <tr>\n",
              "      <th>3</th>\n",
              "      <td>BPL LIMITED AVALAHALLI   NDIA</td>\n",
              "      <td>NaN</td>\n",
              "      <td>NaN</td>\n",
              "      <td>NaN</td>\n",
              "      <td>NaN</td>\n",
              "    </tr>\n",
              "    <tr>\n",
              "      <th>4</th>\n",
              "      <td>AAVALAHALL YELAHANKA</td>\n",
              "      <td>NaN</td>\n",
              "      <td>NaN</td>\n",
              "      <td>NaN</td>\n",
              "      <td>NaN</td>\n",
              "    </tr>\n",
              "    <tr>\n",
              "      <th>5</th>\n",
              "      <td>AVALAHALLI, OLD MADRAS ROAD, VIRGONAGAR POST</td>\n",
              "      <td>NaN</td>\n",
              "      <td>NaN</td>\n",
              "      <td>NaN</td>\n",
              "      <td>NaN</td>\n",
              "    </tr>\n",
              "    <tr>\n",
              "      <th>6</th>\n",
              "      <td>11TH MILE, OLD MADRAS ROAD, AVALAHALLI, VIRGON...</td>\n",
              "      <td>NaN</td>\n",
              "      <td>NaN</td>\n",
              "      <td>NaN</td>\n",
              "      <td>NaN</td>\n",
              "    </tr>\n",
              "    <tr>\n",
              "      <th>7</th>\n",
              "      <td>TIMBARHARD LAYOU  AVALAHALLI MYSORE ROAD  26</td>\n",
              "      <td>NaN</td>\n",
              "      <td>NaN</td>\n",
              "      <td>NaN</td>\n",
              "      <td>NaN</td>\n",
              "    </tr>\n",
              "    <tr>\n",
              "      <th>8</th>\n",
              "      <td>VIRGO NAGAR INDUSTRIAL ESTATE, OPP H.P.PETROL ...</td>\n",
              "      <td>NaN</td>\n",
              "      <td>NaN</td>\n",
              "      <td>NaN</td>\n",
              "      <td>NaN</td>\n",
              "    </tr>\n",
              "    <tr>\n",
              "      <th>9</th>\n",
              "      <td>AVALAHALLI, OLD MADRAS ROAD</td>\n",
              "      <td>NaN</td>\n",
              "      <td>NaN</td>\n",
              "      <td>NaN</td>\n",
              "      <td>NaN</td>\n",
              "    </tr>\n",
              "  </tbody>\n",
              "</table>\n",
              "</div>"
            ],
            "text/plain": [
              "                                              places  latitude  longitude  \\\n",
              "0                                            KANNURU       NaN        NaN   \n",
              "1                                   DODDA BANASHALLI       NaN        NaN   \n",
              "2                                      MAHADEVAPURA,       NaN        NaN   \n",
              "3                   BPL LIMITED AVALAHALLI   NDIA          NaN        NaN   \n",
              "4                           AAVALAHALL YELAHANKA           NaN        NaN   \n",
              "5       AVALAHALLI, OLD MADRAS ROAD, VIRGONAGAR POST       NaN        NaN   \n",
              "6  11TH MILE, OLD MADRAS ROAD, AVALAHALLI, VIRGON...       NaN        NaN   \n",
              "7    TIMBARHARD LAYOU  AVALAHALLI MYSORE ROAD  26          NaN        NaN   \n",
              "8  VIRGO NAGAR INDUSTRIAL ESTATE, OPP H.P.PETROL ...       NaN        NaN   \n",
              "9                        AVALAHALLI, OLD MADRAS ROAD       NaN        NaN   \n",
              "\n",
              "   class  type  \n",
              "0    NaN   NaN  \n",
              "1    NaN   NaN  \n",
              "2    NaN   NaN  \n",
              "3    NaN   NaN  \n",
              "4    NaN   NaN  \n",
              "5    NaN   NaN  \n",
              "6    NaN   NaN  \n",
              "7    NaN   NaN  \n",
              "8    NaN   NaN  \n",
              "9    NaN   NaN  "
            ]
          },
          "metadata": {
            "tags": []
          },
          "execution_count": 32
        }
      ]
    },
    {
      "cell_type": "markdown",
      "metadata": {
        "id": "8jnI_cxcR8Pr",
        "colab_type": "text"
      },
      "source": [
        "***Nominatim API is used to geocode the location***"
      ]
    },
    {
      "cell_type": "code",
      "metadata": {
        "id": "ux-K6JndLf3v",
        "colab_type": "code",
        "colab": {}
      },
      "source": [
        "\n",
        "for index, row in df.iterrows():\n",
        "    text=row['places']\n",
        "    text=' '.join(text.split())\n",
        "    text=text.split(\",\")\n",
        "    text=\"+\".join(text)\n",
        "    text=text.replace(\" \", \"\")\n",
        "    #bounding coordinates added to restrict search results to city of banglore( approx)\n",
        "    request = requests.get('https://nominatim.openstreetmap.org/?format=json&addressdetails=1&q='+text+'&format=json&limit=1&countrycodes=in&bounded=1&viewbox=76.9829,12.4578,78.2133,13.6491')\n",
        "    # variable x is of type string.the size of empty result is 2 ( ie x=[]) \n",
        "    x=request.text\n",
        "    if len(x)!= 2:\n",
        "        parsed_x = json.loads(x)\n",
        "        df.iloc[index,1]=parsed_x[0]['lat']\n",
        "        df.iloc[index,2]=parsed_x[0]['lon']\n",
        "        df.iloc[index,3]=parsed_x[0]['class']\n",
        "        df.iloc[index,4]=parsed_x[0]['type']\n",
        "    \n",
        "    time.sleep(1)\n",
        "    "
      ],
      "execution_count": 0,
      "outputs": []
    },
    {
      "cell_type": "code",
      "metadata": {
        "id": "4qRgNG5iLf35",
        "colab_type": "code",
        "outputId": "98313745-8979-432b-c9a4-ab6662f1fc28",
        "colab": {}
      },
      "source": [
        "df.head(10)"
      ],
      "execution_count": 0,
      "outputs": [
        {
          "output_type": "execute_result",
          "data": {
            "text/html": [
              "<div>\n",
              "<style scoped>\n",
              "    .dataframe tbody tr th:only-of-type {\n",
              "        vertical-align: middle;\n",
              "    }\n",
              "\n",
              "    .dataframe tbody tr th {\n",
              "        vertical-align: top;\n",
              "    }\n",
              "\n",
              "    .dataframe thead th {\n",
              "        text-align: right;\n",
              "    }\n",
              "</style>\n",
              "<table border=\"1\" class=\"dataframe\">\n",
              "  <thead>\n",
              "    <tr style=\"text-align: right;\">\n",
              "      <th></th>\n",
              "      <th>places</th>\n",
              "      <th>latitude</th>\n",
              "      <th>longitude</th>\n",
              "      <th>class</th>\n",
              "      <th>type</th>\n",
              "    </tr>\n",
              "  </thead>\n",
              "  <tbody>\n",
              "    <tr>\n",
              "      <th>0</th>\n",
              "      <td>KANNURU</td>\n",
              "      <td>13.0923096</td>\n",
              "      <td>77.6539427</td>\n",
              "      <td>place</td>\n",
              "      <td>village</td>\n",
              "    </tr>\n",
              "    <tr>\n",
              "      <th>1</th>\n",
              "      <td>DODDA BANASHALLI</td>\n",
              "      <td>NaN</td>\n",
              "      <td>NaN</td>\n",
              "      <td>NaN</td>\n",
              "      <td>NaN</td>\n",
              "    </tr>\n",
              "    <tr>\n",
              "      <th>2</th>\n",
              "      <td>MAHADEVAPURA,</td>\n",
              "      <td>13.0671165</td>\n",
              "      <td>77.3201264</td>\n",
              "      <td>place</td>\n",
              "      <td>village</td>\n",
              "    </tr>\n",
              "    <tr>\n",
              "      <th>3</th>\n",
              "      <td>BPL LIMITED AVALAHALLI   NDIA</td>\n",
              "      <td>NaN</td>\n",
              "      <td>NaN</td>\n",
              "      <td>NaN</td>\n",
              "      <td>NaN</td>\n",
              "    </tr>\n",
              "    <tr>\n",
              "      <th>4</th>\n",
              "      <td>AAVALAHALL YELAHANKA</td>\n",
              "      <td>NaN</td>\n",
              "      <td>NaN</td>\n",
              "      <td>NaN</td>\n",
              "      <td>NaN</td>\n",
              "    </tr>\n",
              "    <tr>\n",
              "      <th>5</th>\n",
              "      <td>AVALAHALLI, OLD MADRAS ROAD, VIRGONAGAR POST</td>\n",
              "      <td>NaN</td>\n",
              "      <td>NaN</td>\n",
              "      <td>NaN</td>\n",
              "      <td>NaN</td>\n",
              "    </tr>\n",
              "    <tr>\n",
              "      <th>6</th>\n",
              "      <td>11TH MILE, OLD MADRAS ROAD, AVALAHALLI, VIRGON...</td>\n",
              "      <td>NaN</td>\n",
              "      <td>NaN</td>\n",
              "      <td>NaN</td>\n",
              "      <td>NaN</td>\n",
              "    </tr>\n",
              "    <tr>\n",
              "      <th>7</th>\n",
              "      <td>TIMBARHARD LAYOU  AVALAHALLI MYSORE ROAD  26</td>\n",
              "      <td>NaN</td>\n",
              "      <td>NaN</td>\n",
              "      <td>NaN</td>\n",
              "      <td>NaN</td>\n",
              "    </tr>\n",
              "    <tr>\n",
              "      <th>8</th>\n",
              "      <td>VIRGO NAGAR INDUSTRIAL ESTATE, OPP H.P.PETROL ...</td>\n",
              "      <td>NaN</td>\n",
              "      <td>NaN</td>\n",
              "      <td>NaN</td>\n",
              "      <td>NaN</td>\n",
              "    </tr>\n",
              "    <tr>\n",
              "      <th>9</th>\n",
              "      <td>AVALAHALLI, OLD MADRAS ROAD</td>\n",
              "      <td>NaN</td>\n",
              "      <td>NaN</td>\n",
              "      <td>NaN</td>\n",
              "      <td>NaN</td>\n",
              "    </tr>\n",
              "  </tbody>\n",
              "</table>\n",
              "</div>"
            ],
            "text/plain": [
              "                                              places    latitude   longitude  \\\n",
              "0                                            KANNURU  13.0923096  77.6539427   \n",
              "1                                   DODDA BANASHALLI         NaN         NaN   \n",
              "2                                      MAHADEVAPURA,  13.0671165  77.3201264   \n",
              "3                   BPL LIMITED AVALAHALLI   NDIA            NaN         NaN   \n",
              "4                           AAVALAHALL YELAHANKA             NaN         NaN   \n",
              "5       AVALAHALLI, OLD MADRAS ROAD, VIRGONAGAR POST         NaN         NaN   \n",
              "6  11TH MILE, OLD MADRAS ROAD, AVALAHALLI, VIRGON...         NaN         NaN   \n",
              "7    TIMBARHARD LAYOU  AVALAHALLI MYSORE ROAD  26            NaN         NaN   \n",
              "8  VIRGO NAGAR INDUSTRIAL ESTATE, OPP H.P.PETROL ...         NaN         NaN   \n",
              "9                        AVALAHALLI, OLD MADRAS ROAD         NaN         NaN   \n",
              "\n",
              "   class     type  \n",
              "0  place  village  \n",
              "1    NaN      NaN  \n",
              "2  place  village  \n",
              "3    NaN      NaN  \n",
              "4    NaN      NaN  \n",
              "5    NaN      NaN  \n",
              "6    NaN      NaN  \n",
              "7    NaN      NaN  \n",
              "8    NaN      NaN  \n",
              "9    NaN      NaN  "
            ]
          },
          "metadata": {
            "tags": []
          },
          "execution_count": 35
        }
      ]
    },
    {
      "cell_type": "markdown",
      "metadata": {
        "id": "_59yVWw7SNLs",
        "colab_type": "text"
      },
      "source": [
        "**Observation**\n",
        "\n",
        "The final result is not satisfactory as the location addresses consisting of spelling mistakes were not classified\n",
        "\n",
        "\n",
        "\n",
        "---\n",
        "\n",
        "\n",
        "\n",
        "**Corrections Needed**\n",
        "\n",
        "*   filter the address based on filtering.\n",
        "*   identify which spelling is found correct by the open street maps\n",
        "*   identify and  create a module for the purpose.\n",
        "\n"
      ]
    }
  ]
}