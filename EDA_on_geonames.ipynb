{
 "cells": [
  {
   "cell_type": "markdown",
   "metadata": {},
   "source": [
    "# GEONAMES  \n",
    "###  ABOUT \n",
    "- The GeoNames geographical database is available for download free of charge under a creative commons attribution license. It contains over 25 million geographical names and consists of over 11 million unique features whereof 4.8 million populated places and 13 million alternate names. All features are categorized into one out of nine feature classes and further subcategorized into one out of 645 feature codes  \n",
    "\n",
    "<img src=\"https://i.creativecommons.org/l/by/4.0/88x31.png\" alt=\"license\" \n",
    "     title=\"license\" height=\"100\" width=\"100\" \n",
    "         align=\"right\"/>\n",
    "<img src=\"data:image/png;base64,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\" alt=\"Alt text\" \n",
    "     title=\"Title text\" height=\"200\" width=\"100\" \n",
    "         align=\"right\"/>"
   ]
  },
  {
   "cell_type": "code",
   "execution_count": 2,
   "metadata": {},
   "outputs": [],
   "source": [
    "import pandas as pd "
   ]
  },
  {
   "cell_type": "code",
   "execution_count": 6,
   "metadata": {},
   "outputs": [],
   "source": [
    "df=pd.read_csv(\"IN.txt\",delimiter=\"\\t\",names =['geonameid','name','asciiname','alternate_name','lat','lon',\n",
    "                                               'feature_class','feature_code','country_code','c_c_2','admin1_code',\n",
    "                                               'admin2_code','admin3_code','admin4_code','population','elevation',\n",
    "                                               'dem','timezone','modification_date'],low_memory=False)"
   ]
  },
  {
   "cell_type": "code",
   "execution_count": 7,
   "metadata": {},
   "outputs": [
    {
     "data": {
      "text/html": [
       "<div>\n",
       "<style scoped>\n",
       "    .dataframe tbody tr th:only-of-type {\n",
       "        vertical-align: middle;\n",
       "    }\n",
       "\n",
       "    .dataframe tbody tr th {\n",
       "        vertical-align: top;\n",
       "    }\n",
       "\n",
       "    .dataframe thead th {\n",
       "        text-align: right;\n",
       "    }\n",
       "</style>\n",
       "<table border=\"1\" class=\"dataframe\">\n",
       "  <thead>\n",
       "    <tr style=\"text-align: right;\">\n",
       "      <th></th>\n",
       "      <th>geonameid</th>\n",
       "      <th>name</th>\n",
       "      <th>asciiname</th>\n",
       "      <th>alternate_name</th>\n",
       "      <th>lat</th>\n",
       "      <th>lon</th>\n",
       "      <th>feature_class</th>\n",
       "      <th>feature_code</th>\n",
       "      <th>country_code</th>\n",
       "      <th>c_c_2</th>\n",
       "      <th>admin1_code</th>\n",
       "      <th>admin2_code</th>\n",
       "      <th>admin3_code</th>\n",
       "      <th>admin4_code</th>\n",
       "      <th>population</th>\n",
       "      <th>elevation</th>\n",
       "      <th>dem</th>\n",
       "      <th>timezone</th>\n",
       "      <th>modification_date</th>\n",
       "    </tr>\n",
       "  </thead>\n",
       "  <tbody>\n",
       "    <tr>\n",
       "      <th>0</th>\n",
       "      <td>1114940</td>\n",
       "      <td>Rāvi River</td>\n",
       "      <td>Ravi River</td>\n",
       "      <td>Ravi,Ravi River,Rāvi,Rāvi River</td>\n",
       "      <td>30.62123</td>\n",
       "      <td>71.82683</td>\n",
       "      <td>H</td>\n",
       "      <td>STM</td>\n",
       "      <td>IN</td>\n",
       "      <td>PK</td>\n",
       "      <td>0.0</td>\n",
       "      <td>NaN</td>\n",
       "      <td>NaN</td>\n",
       "      <td>NaN</td>\n",
       "      <td>0</td>\n",
       "      <td>NaN</td>\n",
       "      <td>133</td>\n",
       "      <td>Asia/Karachi</td>\n",
       "      <td>2017-06-06</td>\n",
       "    </tr>\n",
       "    <tr>\n",
       "      <th>1</th>\n",
       "      <td>1114942</td>\n",
       "      <td>Punjab Plains</td>\n",
       "      <td>Punjab Plains</td>\n",
       "      <td>Punjab Plains</td>\n",
       "      <td>30.00000</td>\n",
       "      <td>75.00000</td>\n",
       "      <td>T</td>\n",
       "      <td>PLN</td>\n",
       "      <td>IN</td>\n",
       "      <td>NaN</td>\n",
       "      <td>0.0</td>\n",
       "      <td>NaN</td>\n",
       "      <td>NaN</td>\n",
       "      <td>NaN</td>\n",
       "      <td>0</td>\n",
       "      <td>NaN</td>\n",
       "      <td>206</td>\n",
       "      <td>Asia/Kolkata</td>\n",
       "      <td>2012-01-16</td>\n",
       "    </tr>\n",
       "    <tr>\n",
       "      <th>2</th>\n",
       "      <td>1114957</td>\n",
       "      <td>Jhelum River</td>\n",
       "      <td>Jhelum River</td>\n",
       "      <td>Jhelum,Jhelum River,River Hydaspes,Veth River</td>\n",
       "      <td>31.16853</td>\n",
       "      <td>72.15066</td>\n",
       "      <td>H</td>\n",
       "      <td>STM</td>\n",
       "      <td>IN</td>\n",
       "      <td>PK</td>\n",
       "      <td>0.0</td>\n",
       "      <td>NaN</td>\n",
       "      <td>NaN</td>\n",
       "      <td>NaN</td>\n",
       "      <td>0</td>\n",
       "      <td>NaN</td>\n",
       "      <td>147</td>\n",
       "      <td>Asia/Karachi</td>\n",
       "      <td>2017-02-03</td>\n",
       "    </tr>\n",
       "    <tr>\n",
       "      <th>3</th>\n",
       "      <td>1114958</td>\n",
       "      <td>Hindustan</td>\n",
       "      <td>Hindustan</td>\n",
       "      <td>Hindustan,Hindustán</td>\n",
       "      <td>28.00000</td>\n",
       "      <td>76.00000</td>\n",
       "      <td>L</td>\n",
       "      <td>RGN</td>\n",
       "      <td>IN</td>\n",
       "      <td>IN,PK</td>\n",
       "      <td>0.0</td>\n",
       "      <td>NaN</td>\n",
       "      <td>NaN</td>\n",
       "      <td>NaN</td>\n",
       "      <td>0</td>\n",
       "      <td>NaN</td>\n",
       "      <td>344</td>\n",
       "      <td>Asia/Kolkata</td>\n",
       "      <td>2006-06-23</td>\n",
       "    </tr>\n",
       "    <tr>\n",
       "      <th>4</th>\n",
       "      <td>1114965</td>\n",
       "      <td>Basantar River</td>\n",
       "      <td>Basantar River</td>\n",
       "      <td>Basantar,Basantar Nala,Basantar Nāla,Basantar ...</td>\n",
       "      <td>32.47452</td>\n",
       "      <td>75.01449</td>\n",
       "      <td>H</td>\n",
       "      <td>STM</td>\n",
       "      <td>IN</td>\n",
       "      <td>NaN</td>\n",
       "      <td>0.0</td>\n",
       "      <td>NaN</td>\n",
       "      <td>NaN</td>\n",
       "      <td>NaN</td>\n",
       "      <td>0</td>\n",
       "      <td>NaN</td>\n",
       "      <td>300</td>\n",
       "      <td>Asia/Karachi</td>\n",
       "      <td>2016-03-09</td>\n",
       "    </tr>\n",
       "  </tbody>\n",
       "</table>\n",
       "</div>"
      ],
      "text/plain": [
       "   geonameid            name       asciiname  \\\n",
       "0    1114940      Rāvi River      Ravi River   \n",
       "1    1114942   Punjab Plains   Punjab Plains   \n",
       "2    1114957    Jhelum River    Jhelum River   \n",
       "3    1114958       Hindustan       Hindustan   \n",
       "4    1114965  Basantar River  Basantar River   \n",
       "\n",
       "                                      alternate_name       lat       lon  \\\n",
       "0                    Ravi,Ravi River,Rāvi,Rāvi River  30.62123  71.82683   \n",
       "1                                      Punjab Plains  30.00000  75.00000   \n",
       "2      Jhelum,Jhelum River,River Hydaspes,Veth River  31.16853  72.15066   \n",
       "3                                Hindustan,Hindustán  28.00000  76.00000   \n",
       "4  Basantar,Basantar Nala,Basantar Nāla,Basantar ...  32.47452  75.01449   \n",
       "\n",
       "  feature_class feature_code country_code  c_c_2  admin1_code admin2_code  \\\n",
       "0             H          STM           IN     PK          0.0         NaN   \n",
       "1             T          PLN           IN    NaN          0.0         NaN   \n",
       "2             H          STM           IN     PK          0.0         NaN   \n",
       "3             L          RGN           IN  IN,PK          0.0         NaN   \n",
       "4             H          STM           IN    NaN          0.0         NaN   \n",
       "\n",
       "   admin3_code  admin4_code  population  elevation  dem      timezone  \\\n",
       "0          NaN          NaN           0        NaN  133  Asia/Karachi   \n",
       "1          NaN          NaN           0        NaN  206  Asia/Kolkata   \n",
       "2          NaN          NaN           0        NaN  147  Asia/Karachi   \n",
       "3          NaN          NaN           0        NaN  344  Asia/Kolkata   \n",
       "4          NaN          NaN           0        NaN  300  Asia/Karachi   \n",
       "\n",
       "  modification_date  \n",
       "0        2017-06-06  \n",
       "1        2012-01-16  \n",
       "2        2017-02-03  \n",
       "3        2006-06-23  \n",
       "4        2016-03-09  "
      ]
     },
     "execution_count": 7,
     "metadata": {},
     "output_type": "execute_result"
    }
   ],
   "source": [
    "df.head()"
   ]
  },
  {
   "cell_type": "code",
   "execution_count": 3,
   "metadata": {
    "scrolled": true
   },
   "outputs": [
    {
     "name": "stdout",
     "output_type": "stream",
     "text": [
      "<class 'pandas.core.frame.DataFrame'>\n",
      "RangeIndex: 648828 entries, 0 to 648827\n",
      "Data columns (total 19 columns):\n",
      "geonameid            648828 non-null int64\n",
      "name                 648828 non-null object\n",
      "asciiname            648828 non-null object\n",
      "alternate_name       39261 non-null object\n",
      "lat                  648828 non-null float64\n",
      "lon                  648828 non-null float64\n",
      "feature_class        648828 non-null object\n",
      "feature_code         648812 non-null object\n",
      "country_code         648828 non-null object\n",
      "c_c_2                1385 non-null object\n",
      "admin1_code          648591 non-null float64\n",
      "admin2_code          590957 non-null object\n",
      "admin3_code          215 non-null float64\n",
      "admin4_code          20 non-null float64\n",
      "population           648828 non-null int64\n",
      "elevation            424 non-null float64\n",
      "dem                  648828 non-null int64\n",
      "timezone             648825 non-null object\n",
      "modification_date    648828 non-null object\n",
      "dtypes: float64(6), int64(3), object(10)\n",
      "memory usage: 94.1+ MB\n"
     ]
    }
   ],
   "source": [
    "df.info()"
   ]
  },
  {
   "cell_type": "markdown",
   "metadata": {},
   "source": [
    "#### DEFINITIONS  \n",
    "***\n",
    "- __geonameid__         : integer id of record in geonames database  \n",
    "- __name__              : name of geographical point (utf8) varchar(200)  \n",
    "- __asciiname__         : name of geographical point in plain ascii characters, varchar(200)  \n",
    "- __alternatenames__    : alternatenames, comma separated, ascii names automatically transliterated, convenience attribute from alternatename table, varchar(10000)  \n",
    "- __latitude__          : latitude in decimal degrees (wgs84)  \n",
    "- __longitude__         : longitude in decimal degrees (wgs84)  \n",
    "- __feature class__     : see http://www.geonames.org/export/codes.html, char(1)  \n",
    "- __feature code__      : see http://www.geonames.org/export/codes.html, varchar(10)  \n",
    "- __country code__      : ISO-3166 2-letter country code, 2 characters  \n",
    "- __cc2__               : alternate country codes, comma separated, ISO-3166 2-letter country code, 200 characters  \n",
    "- __admin1 code__       : fipscode (subject to change to iso code), see exceptions below, see file admin1Codes.txt for display names of this code; varchar(20)  \n",
    "- __admin2 code__       : code for the second administrative division, a county in the US, see file admin2Codes.txt;varchar(80) \n",
    "- __admin3 code__       : code for third level administrative division, varchar(20)  \n",
    "- __admin4 code__       : code for fourth level administrative division, varchar(20)  \n",
    "- __population__        : bigint (8 byte int)   \n",
    "- __elevation__         : in meters, integer  \n",
    "- __dem__               : digital elevation model, srtm3 or gtopo30, average elevation of 3''x3'' (ca 90mx90m) or 30''x30''(ca 900mx900m) area in meters, integer. srtm processed by cgiar/ciat.  \n",
    "- __timezone__          : the iana timezone id (see file timeZone.txt) varchar(40)  \n",
    "- __modification date__ : date of last modification in yyyy-MM-dd format"
   ]
  },
  {
   "cell_type": "code",
   "execution_count": 4,
   "metadata": {},
   "outputs": [],
   "source": [
    "df=df.drop(['elevation','admin4_code','admin3_code','c_c_2','country_code','modification_date','population','dem','timezone'],axis=1)"
   ]
  },
  {
   "cell_type": "markdown",
   "metadata": {},
   "source": [
    "#### Deleting unwanted columns (columns with insufficient and irrelevant data) "
   ]
  },
  {
   "cell_type": "code",
   "execution_count": 5,
   "metadata": {},
   "outputs": [],
   "source": [
    "df.to_csv(\"test.csv\")"
   ]
  },
  {
   "cell_type": "code",
   "execution_count": 23,
   "metadata": {},
   "outputs": [],
   "source": [
    "df=pd.read_csv(\"alternateNamesV2.txt\",delimiter=\"\\t\" ,skiprows=[12560108] ,low_memory=False,\n",
    "              names=['alternatenameid','geonameid','isolanguage','alternatenmae','ispreferredname',\n",
    "                     'isshortname','iscolloquial','ishistoric','fromd','tod'])"
   ]
  },
  {
   "cell_type": "code",
   "execution_count": 27,
   "metadata": {
    "scrolled": true
   },
   "outputs": [
    {
     "name": "stdout",
     "output_type": "stream",
     "text": [
      "<class 'pandas.core.frame.DataFrame'>\n",
      "RangeIndex: 14751855 entries, 0 to 14751854\n",
      "Data columns (total 10 columns):\n",
      "alternatenameid    int64\n",
      "geonameid          int64\n",
      "isolanguage        object\n",
      "alternatenmae      object\n",
      "ispreferredname    float64\n",
      "isshortname        float64\n",
      "iscolloquial       float64\n",
      "ishistoric         float64\n",
      "fromd              object\n",
      "tod                object\n",
      "dtypes: float64(4), int64(2), object(4)\n",
      "memory usage: 1.1+ GB\n"
     ]
    }
   ],
   "source": [
    "df.info()"
   ]
  },
  {
   "cell_type": "markdown",
   "metadata": {},
   "source": [
    "<img src=\"data:image/jpeg;base64,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\" alt=\"Alt text\" \n",
    "     title=\"imoji\" height=\"100\" width=\"100\" \n",
    "         align=\"left\"/>\n",
    "<img src=\"https://encrypted-tbn0.gstatic.com/images?q=tbn:ANd9GcRrL4B7tu9qPgO5MO38kkPFXrJ4E0f-yspevIldDkw4jokdurUa  \" alt=\"Alt text\" \n",
    "     title=\"Title text\" height=\"100\" width=\"100\" \n",
    "         align=\"left\"/>\n",
    "<img src=\" https://c.slashgear.com/wp-content/uploads/2015/08/Screen-Shot-2015-08-13-at-5.18.49-PM.png \" alt=\"Alt text\" \n",
    "     title=\"Title text\" height=\"300\" width=\"300\" \n",
    "         align=\"left\"/>\n"
   ]
  },
  {
   "cell_type": "code",
   "execution_count": 26,
   "metadata": {},
   "outputs": [
    {
     "data": {
      "text/html": [
       "<div>\n",
       "<style scoped>\n",
       "    .dataframe tbody tr th:only-of-type {\n",
       "        vertical-align: middle;\n",
       "    }\n",
       "\n",
       "    .dataframe tbody tr th {\n",
       "        vertical-align: top;\n",
       "    }\n",
       "\n",
       "    .dataframe thead th {\n",
       "        text-align: right;\n",
       "    }\n",
       "</style>\n",
       "<table border=\"1\" class=\"dataframe\">\n",
       "  <thead>\n",
       "    <tr style=\"text-align: right;\">\n",
       "      <th></th>\n",
       "      <th>alternatenameid</th>\n",
       "      <th>geonameid</th>\n",
       "      <th>isolanguage</th>\n",
       "      <th>alternatenmae</th>\n",
       "      <th>ispreferredname</th>\n",
       "      <th>isshortname</th>\n",
       "      <th>iscolloquial</th>\n",
       "      <th>ishistoric</th>\n",
       "      <th>fromd</th>\n",
       "      <th>tod</th>\n",
       "    </tr>\n",
       "  </thead>\n",
       "  <tbody>\n",
       "    <tr>\n",
       "      <th>0</th>\n",
       "      <td>1282063</td>\n",
       "      <td>2986043</td>\n",
       "      <td>NaN</td>\n",
       "      <td>Pic du Port</td>\n",
       "      <td>NaN</td>\n",
       "      <td>NaN</td>\n",
       "      <td>NaN</td>\n",
       "      <td>NaN</td>\n",
       "      <td>NaN</td>\n",
       "      <td>NaN</td>\n",
       "    </tr>\n",
       "    <tr>\n",
       "      <th>1</th>\n",
       "      <td>4274490</td>\n",
       "      <td>2986043</td>\n",
       "      <td>NaN</td>\n",
       "      <td>Pic de Font Blanca</td>\n",
       "      <td>NaN</td>\n",
       "      <td>NaN</td>\n",
       "      <td>NaN</td>\n",
       "      <td>NaN</td>\n",
       "      <td>NaN</td>\n",
       "      <td>NaN</td>\n",
       "    </tr>\n",
       "    <tr>\n",
       "      <th>2</th>\n",
       "      <td>1284819</td>\n",
       "      <td>2994701</td>\n",
       "      <td>NaN</td>\n",
       "      <td>Roc Mélé</td>\n",
       "      <td>NaN</td>\n",
       "      <td>NaN</td>\n",
       "      <td>NaN</td>\n",
       "      <td>NaN</td>\n",
       "      <td>NaN</td>\n",
       "      <td>NaN</td>\n",
       "    </tr>\n",
       "    <tr>\n",
       "      <th>3</th>\n",
       "      <td>1284820</td>\n",
       "      <td>2994701</td>\n",
       "      <td>NaN</td>\n",
       "      <td>Roc Meler</td>\n",
       "      <td>NaN</td>\n",
       "      <td>NaN</td>\n",
       "      <td>NaN</td>\n",
       "      <td>NaN</td>\n",
       "      <td>NaN</td>\n",
       "      <td>NaN</td>\n",
       "    </tr>\n",
       "    <tr>\n",
       "      <th>4</th>\n",
       "      <td>4285256</td>\n",
       "      <td>3007683</td>\n",
       "      <td>NaN</td>\n",
       "      <td>Pic des Langounelles</td>\n",
       "      <td>NaN</td>\n",
       "      <td>NaN</td>\n",
       "      <td>NaN</td>\n",
       "      <td>NaN</td>\n",
       "      <td>NaN</td>\n",
       "      <td>NaN</td>\n",
       "    </tr>\n",
       "  </tbody>\n",
       "</table>\n",
       "</div>"
      ],
      "text/plain": [
       "   alternatenameid  geonameid isolanguage         alternatenmae  \\\n",
       "0          1282063    2986043         NaN           Pic du Port   \n",
       "1          4274490    2986043         NaN    Pic de Font Blanca   \n",
       "2          1284819    2994701         NaN              Roc Mélé   \n",
       "3          1284820    2994701         NaN             Roc Meler   \n",
       "4          4285256    3007683         NaN  Pic des Langounelles   \n",
       "\n",
       "   ispreferredname  isshortname  iscolloquial  ishistoric fromd  tod  \n",
       "0              NaN          NaN           NaN         NaN   NaN  NaN  \n",
       "1              NaN          NaN           NaN         NaN   NaN  NaN  \n",
       "2              NaN          NaN           NaN         NaN   NaN  NaN  \n",
       "3              NaN          NaN           NaN         NaN   NaN  NaN  \n",
       "4              NaN          NaN           NaN         NaN   NaN  NaN  "
      ]
     },
     "execution_count": 26,
     "metadata": {},
     "output_type": "execute_result"
    }
   ],
   "source": [
    "df.head()"
   ]
  },
  {
   "cell_type": "code",
   "execution_count": 28,
   "metadata": {},
   "outputs": [],
   "source": [
    "df.to_csv(\"alternatename.csv\")"
   ]
  },
  {
   "cell_type": "markdown",
   "metadata": {},
   "source": [
    "#### Apprently the dataset has nothing more to offer us than the previous.so we decided to go on with the previous dataset.\n",
    "***\n",
    "`since the project deals with the Bangalore rural and Bangalore districts , the data must be filtered for the city of bangalore.the method of bounding box can be applied to isolate the required details but the integrity of geocoded information needed to be verified.we'll try to filter the data based on an extended bounded box details ( about .2 degree in lat & lon coordinates ),then we'll cross verify a small subset of that data using a much reliable source (google geocoding api).`"
   ]
  },
  {
   "cell_type": "code",
   "execution_count": 10,
   "metadata": {},
   "outputs": [],
   "source": [
    "df=pd.read_csv(\"test.csv\", low_memory=False)"
   ]
  },
  {
   "cell_type": "code",
   "execution_count": 23,
   "metadata": {},
   "outputs": [
    {
     "data": {
      "text/plain": [
       "8091"
      ]
     },
     "execution_count": 23,
     "metadata": {},
     "output_type": "execute_result"
    }
   ],
   "source": [
    "len(df[(df.lat>12.5) & (df.lat<13.7) & (df.lon>77) & (df.lon<78.1)])"
   ]
  },
  {
   "cell_type": "markdown",
   "metadata": {},
   "source": [
    "$8091$  entries in geoname database under the extended boundin box `[12.5,77,13.7,78.1]`"
   ]
  },
  {
   "cell_type": "code",
   "execution_count": 24,
   "metadata": {},
   "outputs": [
    {
     "data": {
      "text/plain": [
       "3998"
      ]
     },
     "execution_count": 24,
     "metadata": {},
     "output_type": "execute_result"
    }
   ],
   "source": [
    "len(df[(df.lat>12.732146) & (df.lat<13.504153) & (df.lon>77.180737) & (df.lon<77.968935)])"
   ]
  },
  {
   "cell_type": "markdown",
   "metadata": {},
   "source": [
    "$3998$  entries in geoname database under the extended boundin box `[12.732146,77.180737,13.504153,77.968935]`"
   ]
  },
  {
   "cell_type": "code",
   "execution_count": 18,
   "metadata": {},
   "outputs": [],
   "source": [
    "dfsorted=df[(df.lat>12.5) & (df.lat<13.7) & (df.lon>77) & (df.lon<78.1)]"
   ]
  },
  {
   "cell_type": "code",
   "execution_count": 28,
   "metadata": {},
   "outputs": [],
   "source": [
    "dfsorted.to_csv(\"testsorted.csv\")"
   ]
  },
  {
   "cell_type": "markdown",
   "metadata": {},
   "source": [
    "***\n",
    "`testsortedgeocoded.xlsx` \n",
    "> the dataset was externally geocoded using an addon in google sheets called awesome_table ,which uses google api for geocoding.\n",
    "we'll cross check the new coordinates with the old one for SE,MSE,RMSE\n",
    "***"
   ]
  },
  {
   "cell_type": "code",
   "execution_count": 37,
   "metadata": {},
   "outputs": [],
   "source": [
    "df=pd.read_excel(\"testsortedgeocoded.xlsx\")"
   ]
  },
  {
   "cell_type": "code",
   "execution_count": 38,
   "metadata": {},
   "outputs": [],
   "source": [
    "df=df.dropna(axis=0,subset=['Unnamed: 0','Latitude'])\n",
    "df=df.reset_index()\n",
    "df=df.drop([\"index\",\"Unnamed: 0\"],axis=1)"
   ]
  },
  {
   "cell_type": "code",
   "execution_count": 40,
   "metadata": {},
   "outputs": [
    {
     "name": "stdout",
     "output_type": "stream",
     "text": [
      "<class 'pandas.core.frame.DataFrame'>\n",
      "RangeIndex: 5599 entries, 0 to 5598\n",
      "Data columns (total 12 columns):\n",
      "geonameid         5599 non-null float64\n",
      "name              5599 non-null object\n",
      "asciiname         5599 non-null object\n",
      "Latitude          5599 non-null object\n",
      "Longitude         5599 non-null object\n",
      "alternate_name    229 non-null object\n",
      "lat               5599 non-null float64\n",
      "lon               5599 non-null float64\n",
      "feature_class     5599 non-null object\n",
      "feature_code      5596 non-null object\n",
      "admin1_code       5599 non-null float64\n",
      "admin2_code       5405 non-null float64\n",
      "dtypes: float64(5), object(7)\n",
      "memory usage: 525.0+ KB\n"
     ]
    }
   ],
   "source": [
    "df.head()\n",
    "df.info()"
   ]
  },
  {
   "cell_type": "code",
   "execution_count": 43,
   "metadata": {},
   "outputs": [],
   "source": [
    "df = df.astype({\"Latitude\": float, \"Longitude\": float})"
   ]
  },
  {
   "cell_type": "code",
   "execution_count": 44,
   "metadata": {},
   "outputs": [
    {
     "name": "stdout",
     "output_type": "stream",
     "text": [
      "<class 'pandas.core.frame.DataFrame'>\n",
      "RangeIndex: 5599 entries, 0 to 5598\n",
      "Data columns (total 12 columns):\n",
      "geonameid         5599 non-null float64\n",
      "name              5599 non-null object\n",
      "asciiname         5599 non-null object\n",
      "Latitude          5599 non-null float64\n",
      "Longitude         5599 non-null float64\n",
      "alternate_name    229 non-null object\n",
      "lat               5599 non-null float64\n",
      "lon               5599 non-null float64\n",
      "feature_class     5599 non-null object\n",
      "feature_code      5596 non-null object\n",
      "admin1_code       5599 non-null float64\n",
      "admin2_code       5405 non-null float64\n",
      "dtypes: float64(7), object(5)\n",
      "memory usage: 525.0+ KB\n"
     ]
    }
   ],
   "source": [
    "df.info()"
   ]
  },
  {
   "cell_type": "code",
   "execution_count": 46,
   "metadata": {},
   "outputs": [],
   "source": [
    "dfsorted=df[((df.Latitude)>12.5) & (df.Latitude<13.7) & (df.Longitude>77) & (df.Longitude<78.1)]"
   ]
  },
  {
   "cell_type": "code",
   "execution_count": 68,
   "metadata": {},
   "outputs": [],
   "source": [
    "import seaborn as sns\n",
    "import numpy as np\n",
    "import matplotlib.pyplot as plt"
   ]
  },
  {
   "cell_type": "code",
   "execution_count": 50,
   "metadata": {},
   "outputs": [],
   "source": [
    "lat=dfsorted.lat\n",
    "lon=dfsorted.lon\n",
    "latgeocoded=dfsorted.Latitude\n",
    "longeocoded=dfsorted.Longitude"
   ]
  },
  {
   "cell_type": "code",
   "execution_count": 83,
   "metadata": {
    "scrolled": true
   },
   "outputs": [
    {
     "data": {
      "text/plain": [
       "<seaborn.axisgrid.JointGrid at 0x7f6c80059ac8>"
      ]
     },
     "execution_count": 83,
     "metadata": {},
     "output_type": "execute_result"
    },
    {
     "data": {
      "image/png": "[encoded data removed]",
      "text/plain": [
       "<Figure size 432x432 with 3 Axes>"
      ]
     },
     "metadata": {},
     "output_type": "display_data"
    }
   ],
   "source": [
    "a=sns.jointplot(lat,latgeocoded,dropna=True,kind='hex',color='g')\n",
    "a.set_axis_labels('Latitude_geoname', 'Latitude_googleapi', fontsize=16,fontweight='bold')"
   ]
  },
  {
   "cell_type": "code",
   "execution_count": 84,
   "metadata": {},
   "outputs": [
    {
     "data": {
      "text/plain": [
       "<seaborn.axisgrid.JointGrid at 0x7f6c805b6470>"
      ]
     },
     "execution_count": 84,
     "metadata": {},
     "output_type": "execute_result"
    },
    {
     "data": {
      "image/png": "[encoded data removed]",
      "text/plain": [
       "<Figure size 432x432 with 3 Axes>"
      ]
     },
     "metadata": {},
     "output_type": "display_data"
    }
   ],
   "source": [
    "b=sns.jointplot(lon,longeocoded,dropna=True,kind='hex',color='g')\n",
    "b.set_axis_labels('Longitude_geoname', 'Longitude_googleapi', fontsize=16,fontweight='bold')"
   ]
  },
  {
   "cell_type": "markdown",
   "metadata": {},
   "source": [
    "####  LATITUDE VS NO OF LOCATIONS"
   ]
  },
  {
   "cell_type": "code",
   "execution_count": 92,
   "metadata": {},
   "outputs": [
    {
     "data": {
      "image/png": "[encoded data removed]",
      "text/plain": [
       "<Figure size 432x288 with 1 Axes>"
      ]
     },
     "metadata": {},
     "output_type": "display_data"
    }
   ],
   "source": [
    "sns.distplot(lat, kde=False, bins=24, rug=True ,color='r');"
   ]
  },
  {
   "cell_type": "markdown",
   "metadata": {},
   "source": [
    "#### LONGITUDE VS NO OF LOCATIONS"
   ]
  },
  {
   "cell_type": "code",
   "execution_count": 93,
   "metadata": {},
   "outputs": [
    {
     "data": {
      "image/png": "[encoded data removed]",
      "text/plain": [
       "<Figure size 432x288 with 1 Axes>"
      ]
     },
     "metadata": {},
     "output_type": "display_data"
    }
   ],
   "source": [
    "sns.distplot(lon, kde=False,bins=20, rug=True ,color='r');"
   ]
  },
  {
   "cell_type": "code",
   "execution_count": 60,
   "metadata": {},
   "outputs": [
    {
     "name": "stdout",
     "output_type": "stream",
     "text": [
      "MAE_lat: 0.1560457374671709\n",
      "MSE_lat: 0.07207761957861764\n",
      "RMSE_lat: 0.2684727538850407\n",
      "MAE_lon: 0.1402883745841822\n",
      "MSE_lon: 0.0561386730423676\n",
      "RMSE_lon: 0.2369360104381932\n"
     ]
    }
   ],
   "source": [
    "from sklearn import metrics\n",
    "\n",
    "print('MAE_lat:', metrics.mean_absolute_error(lat, latgeocoded))\n",
    "print('MSE_lat:', metrics.mean_squared_error(lat, latgeocoded))\n",
    "print('RMSE_lat:', np.sqrt(metrics.mean_squared_error(lat, latgeocoded)))\n",
    "print('MAE_lon:', metrics.mean_absolute_error(lon, longeocoded))\n",
    "print('MSE_lon:', metrics.mean_squared_error(lon, longeocoded))\n",
    "print('RMSE_lon:', np.sqrt(metrics.mean_squared_error(lon, longeocoded)))"
   ]
  },
  {
   "cell_type": "markdown",
   "metadata": {},
   "source": [
    " <img src=\"https://slideplayer.com/slide/5661651/6/images/17/Length+of+One+Degree+of+Longitude+%28on+WGS+84+Ellipsoid%29.jpg  \" alt=\"Alt text\" \n",
    "     title=\"Title text\" height=\"500\" width=\"500\" \n",
    "         align=\"left\"/>"
   ]
  },
  {
   "cell_type": "markdown",
   "metadata": {},
   "source": [
    "`from the above table we can calculate the variation in Kilometres`\n",
    "> Kilometre equalent of $1$ degree in Latitude is around $108$km ($ 12.732146-13.504153 $)  \n",
    "\n",
    "> Kilometre equalent of $1$ degree in Longitude is around $111$km ($ 12.732146-13.504153 $)  \n",
    "#### ERROR IN LATITUDE AND LONGITUDE\n",
    "> $(156/100)*108=16.848km$  \n",
    "> $(140/100)*111=15.540km$"
   ]
  }
 ],
 "metadata": {
  "kernelspec": {
   "display_name": "Python 3.5",
   "language": "python",
   "name": "python3"
  },
  "language_info": {
   "codemirror_mode": {
    "name": "ipython",
    "version": 3
   },
   "file_extension": ".py",
   "mimetype": "text/x-python",
   "name": "python",
   "nbconvert_exporter": "python",
   "pygments_lexer": "ipython3",
   "version": "3.5.5"
  }
 },
 "nbformat": 4,
 "nbformat_minor": 2
}
