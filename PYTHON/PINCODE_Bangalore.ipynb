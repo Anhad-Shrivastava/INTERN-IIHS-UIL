{
  "nbformat": 4,
  "nbformat_minor": 0,
  "metadata": {
    "colab": {
      "name": "PINCODE.ipynb",
      "version": "0.3.2",
      "provenance": []
    },
    "language_info": {
      "codemirror_mode": {
        "name": "ipython",
        "version": 3
      },
      "file_extension": ".py",
      "mimetype": "text/x-python",
      "name": "python",
      "nbconvert_exporter": "python",
      "pygments_lexer": "ipython3",
      "version": "3.7.3"
    },
    "kernelspec": {
      "display_name": "Python 3",
      "language": "python",
      "name": "python3"
    }
  },
  "cells": [
    {
      "cell_type": "markdown",
      "metadata": {
        "id": "ymJezd57lDlK",
        "colab_type": "text"
      },
      "source": [
        "## **Program to extract the pincode of places in banglore for finding bounding box for each pincode**"
      ]
    },
    {
      "cell_type": "code",
      "metadata": {
        "id": "7ZN4HAXPkyGO",
        "colab_type": "code",
        "colab": {}
      },
      "source": [
        "import pandas as pd"
      ],
      "execution_count": 0,
      "outputs": []
    },
    {
      "cell_type": "markdown",
      "metadata": {
        "id": "kJmLU3g3l5jg",
        "colab_type": "text"
      },
      "source": [
        "CSV file downloaded from the website ( [link](https://data.gov.in/ ))"
      ]
    },
    {
      "cell_type": "code",
      "metadata": {
        "id": "N9OE_lJCkyGc",
        "colab_type": "code",
        "colab": {}
      },
      "source": [
        "df=pd.read_csv(\"PINCODE.csv\", encoding = \"ISO-8859-1\")"
      ],
      "execution_count": 0,
      "outputs": []
    },
    {
      "cell_type": "code",
      "metadata": {
        "id": "y7rnYpZbkyGk",
        "colab_type": "code",
        "outputId": "0199c3db-6f64-408d-91ee-28c9281a744a",
        "colab": {}
      },
      "source": [
        "df.info()"
      ],
      "execution_count": 0,
      "outputs": [
        {
          "output_type": "stream",
          "text": [
            "<class 'pandas.core.frame.DataFrame'>\n",
            "RangeIndex: 906267 entries, 0 to 906266\n",
            "Data columns (total 6 columns):\n",
            "Village/Locality name     906267 non-null object\n",
            "Officename ( BO/SO/HO)    906267 non-null object\n",
            "Pincode                   906267 non-null int64\n",
            "Sub-distname              906267 non-null object\n",
            "Districtname              906267 non-null object\n",
            "StateName                 906267 non-null object\n",
            "dtypes: int64(1), object(5)\n",
            "memory usage: 24.2+ MB\n"
          ],
          "name": "stdout"
        }
      ]
    },
    {
      "cell_type": "code",
      "metadata": {
        "id": "3QfM-QmwkyGx",
        "colab_type": "code",
        "outputId": "140bca02-bb37-4fdb-9c50-8835c69dd26d",
        "colab": {}
      },
      "source": [
        "df.head(1)"
      ],
      "execution_count": 0,
      "outputs": [
        {
          "output_type": "execute_result",
          "data": {
            "text/html": [
              "<div>\n",
              "<style scoped>\n",
              "    .dataframe tbody tr th:only-of-type {\n",
              "        vertical-align: middle;\n",
              "    }\n",
              "\n",
              "    .dataframe tbody tr th {\n",
              "        vertical-align: top;\n",
              "    }\n",
              "\n",
              "    .dataframe thead th {\n",
              "        text-align: right;\n",
              "    }\n",
              "</style>\n",
              "<table border=\"1\" class=\"dataframe\">\n",
              "  <thead>\n",
              "    <tr style=\"text-align: right;\">\n",
              "      <th></th>\n",
              "      <th>Village/Locality name</th>\n",
              "      <th>Officename ( BO/SO/HO)</th>\n",
              "      <th>Pincode</th>\n",
              "      <th>Sub-distname</th>\n",
              "      <th>Districtname</th>\n",
              "      <th>StateName</th>\n",
              "    </tr>\n",
              "  </thead>\n",
              "  <tbody>\n",
              "    <tr>\n",
              "      <th>0</th>\n",
              "      <td>Aliganj</td>\n",
              "      <td>Lodi Road H.O</td>\n",
              "      <td>110003</td>\n",
              "      <td>Defence Colony</td>\n",
              "      <td>SOUTH EAST DELHI</td>\n",
              "      <td>DELHI</td>\n",
              "    </tr>\n",
              "  </tbody>\n",
              "</table>\n",
              "</div>"
            ],
            "text/plain": [
              "  Village/Locality name Officename ( BO/SO/HO)  Pincode    Sub-distname  \\\n",
              "0               Aliganj          Lodi Road H.O   110003  Defence Colony   \n",
              "\n",
              "       Districtname StateName  \n",
              "0  SOUTH EAST DELHI     DELHI  "
            ]
          },
          "metadata": {
            "tags": []
          },
          "execution_count": 4
        }
      ]
    },
    {
      "cell_type": "markdown",
      "metadata": {
        "id": "-XWfPa0EmsRX",
        "colab_type": "text"
      },
      "source": [
        "extracting data pertaining to Bangalore and Bangalore Rural"
      ]
    },
    {
      "cell_type": "code",
      "metadata": {
        "id": "ZYLauvCVkyG6",
        "colab_type": "code",
        "colab": {}
      },
      "source": [
        "df1=df[(df.Districtname == \"BANGALORE\") | (df.Districtname == \"BANGALORE RURAL\")]"
      ],
      "execution_count": 0,
      "outputs": []
    },
    {
      "cell_type": "code",
      "metadata": {
        "id": "inVJ8U1fkyHA",
        "colab_type": "code",
        "outputId": "6278457b-ee36-4068-bfe3-233e0f50bba8",
        "colab": {}
      },
      "source": [
        "df1.info()"
      ],
      "execution_count": 0,
      "outputs": [
        {
          "output_type": "stream",
          "text": [
            "<class 'pandas.core.frame.DataFrame'>\n",
            "Int64Index: 1995 entries, 517731 to 522137\n",
            "Data columns (total 6 columns):\n",
            "Village/Locality name     1995 non-null object\n",
            "Officename ( BO/SO/HO)    1995 non-null object\n",
            "Pincode                   1995 non-null int64\n",
            "Sub-distname              1995 non-null object\n",
            "Districtname              1995 non-null object\n",
            "StateName                 1995 non-null object\n",
            "dtypes: int64(1), object(5)\n",
            "memory usage: 70.1+ KB\n"
          ],
          "name": "stdout"
        }
      ]
    },
    {
      "cell_type": "code",
      "metadata": {
        "id": "Rca9lSfSkyHH",
        "colab_type": "code",
        "outputId": "d1b479bd-ee26-44d8-a0a9-80d454dd7e82",
        "colab": {}
      },
      "source": [
        "df1.head()"
      ],
      "execution_count": 0,
      "outputs": [
        {
          "output_type": "execute_result",
          "data": {
            "text/html": [
              "<div>\n",
              "<style scoped>\n",
              "    .dataframe tbody tr th:only-of-type {\n",
              "        vertical-align: middle;\n",
              "    }\n",
              "\n",
              "    .dataframe tbody tr th {\n",
              "        vertical-align: top;\n",
              "    }\n",
              "\n",
              "    .dataframe thead th {\n",
              "        text-align: right;\n",
              "    }\n",
              "</style>\n",
              "<table border=\"1\" class=\"dataframe\">\n",
              "  <thead>\n",
              "    <tr style=\"text-align: right;\">\n",
              "      <th></th>\n",
              "      <th>Village/Locality name</th>\n",
              "      <th>Officename ( BO/SO/HO)</th>\n",
              "      <th>Pincode</th>\n",
              "      <th>Sub-distname</th>\n",
              "      <th>Districtname</th>\n",
              "      <th>StateName</th>\n",
              "    </tr>\n",
              "  </thead>\n",
              "  <tbody>\n",
              "    <tr>\n",
              "      <th>517731</th>\n",
              "      <td>Bangalore North</td>\n",
              "      <td>Vidhana Soudha S.O</td>\n",
              "      <td>560001</td>\n",
              "      <td>Bangalore North</td>\n",
              "      <td>BANGALORE</td>\n",
              "      <td>KARNATAKA</td>\n",
              "    </tr>\n",
              "    <tr>\n",
              "      <th>517732</th>\n",
              "      <td>Bangalore North</td>\n",
              "      <td>HighCourt S.O</td>\n",
              "      <td>560001</td>\n",
              "      <td>Bangalore North</td>\n",
              "      <td>BANGALORE</td>\n",
              "      <td>KARNATAKA</td>\n",
              "    </tr>\n",
              "    <tr>\n",
              "      <th>517733</th>\n",
              "      <td>Bangalore North</td>\n",
              "      <td>Dr. Ambedkar Veedhi S.O</td>\n",
              "      <td>560001</td>\n",
              "      <td>Bangalore North</td>\n",
              "      <td>BANGALORE</td>\n",
              "      <td>KARNATAKA</td>\n",
              "    </tr>\n",
              "    <tr>\n",
              "      <th>517734</th>\n",
              "      <td>Bangalore North</td>\n",
              "      <td>Legislators Home S.O</td>\n",
              "      <td>560001</td>\n",
              "      <td>Bangalore North</td>\n",
              "      <td>BANGALORE</td>\n",
              "      <td>KARNATAKA</td>\n",
              "    </tr>\n",
              "    <tr>\n",
              "      <th>517735</th>\n",
              "      <td>Bangalore North</td>\n",
              "      <td>Rajbhavan S.O (Bangalore)</td>\n",
              "      <td>560001</td>\n",
              "      <td>Bangalore North</td>\n",
              "      <td>BANGALORE</td>\n",
              "      <td>KARNATAKA</td>\n",
              "    </tr>\n",
              "  </tbody>\n",
              "</table>\n",
              "</div>"
            ],
            "text/plain": [
              "       Village/Locality name     Officename ( BO/SO/HO)  Pincode  \\\n",
              "517731       Bangalore North         Vidhana Soudha S.O   560001   \n",
              "517732       Bangalore North              HighCourt S.O   560001   \n",
              "517733       Bangalore North    Dr. Ambedkar Veedhi S.O   560001   \n",
              "517734       Bangalore North       Legislators Home S.O   560001   \n",
              "517735       Bangalore North  Rajbhavan S.O (Bangalore)   560001   \n",
              "\n",
              "           Sub-distname Districtname  StateName  \n",
              "517731  Bangalore North    BANGALORE  KARNATAKA  \n",
              "517732  Bangalore North    BANGALORE  KARNATAKA  \n",
              "517733  Bangalore North    BANGALORE  KARNATAKA  \n",
              "517734  Bangalore North    BANGALORE  KARNATAKA  \n",
              "517735  Bangalore North    BANGALORE  KARNATAKA  "
            ]
          },
          "metadata": {
            "tags": []
          },
          "execution_count": 7
        }
      ]
    },
    {
      "cell_type": "code",
      "metadata": {
        "id": "hTFn770EkyIG",
        "colab_type": "code",
        "colab": {}
      },
      "source": [
        "import numpy as np"
      ],
      "execution_count": 0,
      "outputs": []
    },
    {
      "cell_type": "code",
      "metadata": {
        "id": "4yIv_JbRkyIM",
        "colab_type": "code",
        "colab": {}
      },
      "source": [
        "df1.insert(2, \"latitude\", np.nan) "
      ],
      "execution_count": 0,
      "outputs": []
    },
    {
      "cell_type": "code",
      "metadata": {
        "id": "TtqF2dsfkyIS",
        "colab_type": "code",
        "colab": {}
      },
      "source": [
        "df1.insert(3, \"longitude\", np.nan) "
      ],
      "execution_count": 0,
      "outputs": []
    },
    {
      "cell_type": "code",
      "metadata": {
        "id": "Z1UBnxULkyIg",
        "colab_type": "code",
        "outputId": "aa2d1895-15fe-4204-fa56-dffa71c518de",
        "colab": {}
      },
      "source": [
        "df1.head()"
      ],
      "execution_count": 0,
      "outputs": [
        {
          "output_type": "execute_result",
          "data": {
            "text/html": [
              "<div>\n",
              "<style scoped>\n",
              "    .dataframe tbody tr th:only-of-type {\n",
              "        vertical-align: middle;\n",
              "    }\n",
              "\n",
              "    .dataframe tbody tr th {\n",
              "        vertical-align: top;\n",
              "    }\n",
              "\n",
              "    .dataframe thead th {\n",
              "        text-align: right;\n",
              "    }\n",
              "</style>\n",
              "<table border=\"1\" class=\"dataframe\">\n",
              "  <thead>\n",
              "    <tr style=\"text-align: right;\">\n",
              "      <th></th>\n",
              "      <th>Village/Locality name</th>\n",
              "      <th>Officename ( BO/SO/HO)</th>\n",
              "      <th>latitude</th>\n",
              "      <th>longitude</th>\n",
              "      <th>Pincode</th>\n",
              "      <th>Sub-distname</th>\n",
              "      <th>Districtname</th>\n",
              "      <th>StateName</th>\n",
              "    </tr>\n",
              "  </thead>\n",
              "  <tbody>\n",
              "    <tr>\n",
              "      <th>517731</th>\n",
              "      <td>Bangalore North</td>\n",
              "      <td>Vidhana Soudha S.O</td>\n",
              "      <td>NaN</td>\n",
              "      <td>NaN</td>\n",
              "      <td>560001</td>\n",
              "      <td>Bangalore North</td>\n",
              "      <td>BANGALORE</td>\n",
              "      <td>KARNATAKA</td>\n",
              "    </tr>\n",
              "    <tr>\n",
              "      <th>517732</th>\n",
              "      <td>Bangalore North</td>\n",
              "      <td>HighCourt S.O</td>\n",
              "      <td>NaN</td>\n",
              "      <td>NaN</td>\n",
              "      <td>560001</td>\n",
              "      <td>Bangalore North</td>\n",
              "      <td>BANGALORE</td>\n",
              "      <td>KARNATAKA</td>\n",
              "    </tr>\n",
              "    <tr>\n",
              "      <th>517733</th>\n",
              "      <td>Bangalore North</td>\n",
              "      <td>Dr. Ambedkar Veedhi S.O</td>\n",
              "      <td>NaN</td>\n",
              "      <td>NaN</td>\n",
              "      <td>560001</td>\n",
              "      <td>Bangalore North</td>\n",
              "      <td>BANGALORE</td>\n",
              "      <td>KARNATAKA</td>\n",
              "    </tr>\n",
              "    <tr>\n",
              "      <th>517734</th>\n",
              "      <td>Bangalore North</td>\n",
              "      <td>Legislators Home S.O</td>\n",
              "      <td>NaN</td>\n",
              "      <td>NaN</td>\n",
              "      <td>560001</td>\n",
              "      <td>Bangalore North</td>\n",
              "      <td>BANGALORE</td>\n",
              "      <td>KARNATAKA</td>\n",
              "    </tr>\n",
              "    <tr>\n",
              "      <th>517735</th>\n",
              "      <td>Bangalore North</td>\n",
              "      <td>Rajbhavan S.O (Bangalore)</td>\n",
              "      <td>NaN</td>\n",
              "      <td>NaN</td>\n",
              "      <td>560001</td>\n",
              "      <td>Bangalore North</td>\n",
              "      <td>BANGALORE</td>\n",
              "      <td>KARNATAKA</td>\n",
              "    </tr>\n",
              "  </tbody>\n",
              "</table>\n",
              "</div>"
            ],
            "text/plain": [
              "       Village/Locality name     Officename ( BO/SO/HO)  latitude  longitude  \\\n",
              "517731       Bangalore North         Vidhana Soudha S.O       NaN        NaN   \n",
              "517732       Bangalore North              HighCourt S.O       NaN        NaN   \n",
              "517733       Bangalore North    Dr. Ambedkar Veedhi S.O       NaN        NaN   \n",
              "517734       Bangalore North       Legislators Home S.O       NaN        NaN   \n",
              "517735       Bangalore North  Rajbhavan S.O (Bangalore)       NaN        NaN   \n",
              "\n",
              "        Pincode     Sub-distname Districtname  StateName  \n",
              "517731   560001  Bangalore North    BANGALORE  KARNATAKA  \n",
              "517732   560001  Bangalore North    BANGALORE  KARNATAKA  \n",
              "517733   560001  Bangalore North    BANGALORE  KARNATAKA  \n",
              "517734   560001  Bangalore North    BANGALORE  KARNATAKA  \n",
              "517735   560001  Bangalore North    BANGALORE  KARNATAKA  "
            ]
          },
          "metadata": {
            "tags": []
          },
          "execution_count": 20
        }
      ]
    },
    {
      "cell_type": "code",
      "metadata": {
        "id": "Ybyto32nkyIu",
        "colab_type": "code",
        "colab": {}
      },
      "source": [
        "df1.to_csv(\"test.csv\")"
      ],
      "execution_count": 0,
      "outputs": []
    },
    {
      "cell_type": "markdown",
      "metadata": {
        "id": "wDCD0_k5ny2-",
        "colab_type": "text"
      },
      "source": [
        "**We now have a list of places in Banglore along with their details.**"
      ]
    },
    {
      "cell_type": "code",
      "metadata": {
        "id": "BcNusCfJkyIz",
        "colab_type": "code",
        "colab": {}
      },
      "source": [
        "s=pd.read_csv(\"test.csv\")"
      ],
      "execution_count": 0,
      "outputs": []
    },
    {
      "cell_type": "code",
      "metadata": {
        "id": "HSmWPKGkkyI8",
        "colab_type": "code",
        "outputId": "c4ce0431-48d8-4d9a-8178-e5d0a7a6da4d",
        "colab": {}
      },
      "source": [
        "s.head()"
      ],
      "execution_count": 0,
      "outputs": [
        {
          "output_type": "execute_result",
          "data": {
            "text/html": [
              "<div>\n",
              "<style scoped>\n",
              "    .dataframe tbody tr th:only-of-type {\n",
              "        vertical-align: middle;\n",
              "    }\n",
              "\n",
              "    .dataframe tbody tr th {\n",
              "        vertical-align: top;\n",
              "    }\n",
              "\n",
              "    .dataframe thead th {\n",
              "        text-align: right;\n",
              "    }\n",
              "</style>\n",
              "<table border=\"1\" class=\"dataframe\">\n",
              "  <thead>\n",
              "    <tr style=\"text-align: right;\">\n",
              "      <th></th>\n",
              "      <th>Unnamed: 0</th>\n",
              "      <th>Village/Locality name</th>\n",
              "      <th>Officename ( BO/SO/HO)</th>\n",
              "      <th>latitude</th>\n",
              "      <th>longitude</th>\n",
              "      <th>Pincode</th>\n",
              "      <th>Sub-distname</th>\n",
              "      <th>Districtname</th>\n",
              "      <th>StateName</th>\n",
              "    </tr>\n",
              "  </thead>\n",
              "  <tbody>\n",
              "    <tr>\n",
              "      <th>0</th>\n",
              "      <td>517731</td>\n",
              "      <td>Bangalore North</td>\n",
              "      <td>Vidhana Soudha S.O</td>\n",
              "      <td>NaN</td>\n",
              "      <td>NaN</td>\n",
              "      <td>560001</td>\n",
              "      <td>Bangalore North</td>\n",
              "      <td>BANGALORE</td>\n",
              "      <td>KARNATAKA</td>\n",
              "    </tr>\n",
              "    <tr>\n",
              "      <th>1</th>\n",
              "      <td>517732</td>\n",
              "      <td>Bangalore North</td>\n",
              "      <td>HighCourt S.O</td>\n",
              "      <td>NaN</td>\n",
              "      <td>NaN</td>\n",
              "      <td>560001</td>\n",
              "      <td>Bangalore North</td>\n",
              "      <td>BANGALORE</td>\n",
              "      <td>KARNATAKA</td>\n",
              "    </tr>\n",
              "    <tr>\n",
              "      <th>2</th>\n",
              "      <td>517733</td>\n",
              "      <td>Bangalore North</td>\n",
              "      <td>Dr. Ambedkar Veedhi S.O</td>\n",
              "      <td>NaN</td>\n",
              "      <td>NaN</td>\n",
              "      <td>560001</td>\n",
              "      <td>Bangalore North</td>\n",
              "      <td>BANGALORE</td>\n",
              "      <td>KARNATAKA</td>\n",
              "    </tr>\n",
              "    <tr>\n",
              "      <th>3</th>\n",
              "      <td>517734</td>\n",
              "      <td>Bangalore North</td>\n",
              "      <td>Legislators Home S.O</td>\n",
              "      <td>NaN</td>\n",
              "      <td>NaN</td>\n",
              "      <td>560001</td>\n",
              "      <td>Bangalore North</td>\n",
              "      <td>BANGALORE</td>\n",
              "      <td>KARNATAKA</td>\n",
              "    </tr>\n",
              "    <tr>\n",
              "      <th>4</th>\n",
              "      <td>517735</td>\n",
              "      <td>Bangalore North</td>\n",
              "      <td>Rajbhavan S.O (Bangalore)</td>\n",
              "      <td>NaN</td>\n",
              "      <td>NaN</td>\n",
              "      <td>560001</td>\n",
              "      <td>Bangalore North</td>\n",
              "      <td>BANGALORE</td>\n",
              "      <td>KARNATAKA</td>\n",
              "    </tr>\n",
              "  </tbody>\n",
              "</table>\n",
              "</div>"
            ],
            "text/plain": [
              "   Unnamed: 0 Village/Locality name     Officename ( BO/SO/HO)  latitude  \\\n",
              "0      517731       Bangalore North         Vidhana Soudha S.O       NaN   \n",
              "1      517732       Bangalore North              HighCourt S.O       NaN   \n",
              "2      517733       Bangalore North    Dr. Ambedkar Veedhi S.O       NaN   \n",
              "3      517734       Bangalore North       Legislators Home S.O       NaN   \n",
              "4      517735       Bangalore North  Rajbhavan S.O (Bangalore)       NaN   \n",
              "\n",
              "   longitude  Pincode     Sub-distname Districtname  StateName  \n",
              "0        NaN   560001  Bangalore North    BANGALORE  KARNATAKA  \n",
              "1        NaN   560001  Bangalore North    BANGALORE  KARNATAKA  \n",
              "2        NaN   560001  Bangalore North    BANGALORE  KARNATAKA  \n",
              "3        NaN   560001  Bangalore North    BANGALORE  KARNATAKA  \n",
              "4        NaN   560001  Bangalore North    BANGALORE  KARNATAKA  "
            ]
          },
          "metadata": {
            "tags": []
          },
          "execution_count": 55
        }
      ]
    },
    {
      "cell_type": "code",
      "metadata": {
        "id": "EH21lJ_VkyJK",
        "colab_type": "code",
        "colab": {}
      },
      "source": [
        "s=s.drop_duplicates(\"Pincode\")"
      ],
      "execution_count": 0,
      "outputs": []
    },
    {
      "cell_type": "code",
      "metadata": {
        "id": "mgaOfyM_kyJP",
        "colab_type": "code",
        "colab": {}
      },
      "source": [
        "s1=s.loc[:,[\"Pincode\",\"latitude\",\"longitude\"]]"
      ],
      "execution_count": 0,
      "outputs": []
    },
    {
      "cell_type": "code",
      "metadata": {
        "id": "kK00qkfPkyJR",
        "colab_type": "code",
        "outputId": "a3631b3d-1107-4516-c77e-7c1065a6d10c",
        "colab": {}
      },
      "source": [
        "s1.head()"
      ],
      "execution_count": 0,
      "outputs": [
        {
          "output_type": "execute_result",
          "data": {
            "text/html": [
              "<div>\n",
              "<style scoped>\n",
              "    .dataframe tbody tr th:only-of-type {\n",
              "        vertical-align: middle;\n",
              "    }\n",
              "\n",
              "    .dataframe tbody tr th {\n",
              "        vertical-align: top;\n",
              "    }\n",
              "\n",
              "    .dataframe thead th {\n",
              "        text-align: right;\n",
              "    }\n",
              "</style>\n",
              "<table border=\"1\" class=\"dataframe\">\n",
              "  <thead>\n",
              "    <tr style=\"text-align: right;\">\n",
              "      <th></th>\n",
              "      <th>Pincode</th>\n",
              "      <th>latitude</th>\n",
              "      <th>longitude</th>\n",
              "    </tr>\n",
              "  </thead>\n",
              "  <tbody>\n",
              "    <tr>\n",
              "      <th>0</th>\n",
              "      <td>560001</td>\n",
              "      <td>NaN</td>\n",
              "      <td>NaN</td>\n",
              "    </tr>\n",
              "    <tr>\n",
              "      <th>8</th>\n",
              "      <td>560002</td>\n",
              "      <td>NaN</td>\n",
              "      <td>NaN</td>\n",
              "    </tr>\n",
              "    <tr>\n",
              "      <th>10</th>\n",
              "      <td>560003</td>\n",
              "      <td>NaN</td>\n",
              "      <td>NaN</td>\n",
              "    </tr>\n",
              "    <tr>\n",
              "      <th>14</th>\n",
              "      <td>560004</td>\n",
              "      <td>NaN</td>\n",
              "      <td>NaN</td>\n",
              "    </tr>\n",
              "    <tr>\n",
              "      <th>18</th>\n",
              "      <td>560005</td>\n",
              "      <td>NaN</td>\n",
              "      <td>NaN</td>\n",
              "    </tr>\n",
              "  </tbody>\n",
              "</table>\n",
              "</div>"
            ],
            "text/plain": [
              "    Pincode  latitude  longitude\n",
              "0    560001       NaN        NaN\n",
              "8    560002       NaN        NaN\n",
              "10   560003       NaN        NaN\n",
              "14   560004       NaN        NaN\n",
              "18   560005       NaN        NaN"
            ]
          },
          "metadata": {
            "tags": []
          },
          "execution_count": 81
        }
      ]
    },
    {
      "cell_type": "code",
      "metadata": {
        "id": "qI_fW5uWkyJW",
        "colab_type": "code",
        "colab": {}
      },
      "source": [
        "s1=s1.reset_index()"
      ],
      "execution_count": 0,
      "outputs": []
    },
    {
      "cell_type": "code",
      "metadata": {
        "id": "DRWmPxUHkyJb",
        "colab_type": "code",
        "outputId": "f986fcd0-4592-4c7a-db87-f3ec1275866e",
        "colab": {}
      },
      "source": [
        "s1.info()"
      ],
      "execution_count": 0,
      "outputs": [
        {
          "output_type": "stream",
          "text": [
            "<class 'pandas.core.frame.DataFrame'>\n",
            "RangeIndex: 132 entries, 0 to 131\n",
            "Data columns (total 4 columns):\n",
            "index        132 non-null int64\n",
            "Pincode      132 non-null int64\n",
            "latitude     0 non-null float64\n",
            "longitude    0 non-null float64\n",
            "dtypes: float64(2), int64(2)\n",
            "memory usage: 4.2 KB\n"
          ],
          "name": "stdout"
        }
      ]
    },
    {
      "cell_type": "code",
      "metadata": {
        "id": "_gLb-jYXkyJn",
        "colab_type": "code",
        "colab": {}
      },
      "source": [
        "s1=s1.drop([\"index\"],axis=1)"
      ],
      "execution_count": 0,
      "outputs": []
    },
    {
      "cell_type": "code",
      "metadata": {
        "id": "oMhZnSTzkyJr",
        "colab_type": "code",
        "outputId": "530c0ced-0913-4f87-c752-6a7891d7aa2f",
        "colab": {}
      },
      "source": [
        "s1.head(1)"
      ],
      "execution_count": 0,
      "outputs": [
        {
          "output_type": "execute_result",
          "data": {
            "text/html": [
              "<div>\n",
              "<style scoped>\n",
              "    .dataframe tbody tr th:only-of-type {\n",
              "        vertical-align: middle;\n",
              "    }\n",
              "\n",
              "    .dataframe tbody tr th {\n",
              "        vertical-align: top;\n",
              "    }\n",
              "\n",
              "    .dataframe thead th {\n",
              "        text-align: right;\n",
              "    }\n",
              "</style>\n",
              "<table border=\"1\" class=\"dataframe\">\n",
              "  <thead>\n",
              "    <tr style=\"text-align: right;\">\n",
              "      <th></th>\n",
              "      <th>Pincode</th>\n",
              "      <th>latitude</th>\n",
              "      <th>longitude</th>\n",
              "      <th>BB_lat_1</th>\n",
              "      <th>BB_lat_2</th>\n",
              "      <th>BB_lon_1</th>\n",
              "      <th>BB_lon_2</th>\n",
              "    </tr>\n",
              "  </thead>\n",
              "  <tbody>\n",
              "    <tr>\n",
              "      <th>0</th>\n",
              "      <td>560001</td>\n",
              "      <td>NaN</td>\n",
              "      <td>NaN</td>\n",
              "      <td>NaN</td>\n",
              "      <td>NaN</td>\n",
              "      <td>NaN</td>\n",
              "      <td>NaN</td>\n",
              "    </tr>\n",
              "  </tbody>\n",
              "</table>\n",
              "</div>"
            ],
            "text/plain": [
              "   Pincode  latitude  longitude  BB_lat_1  BB_lat_2  BB_lon_1  BB_lon_2\n",
              "0   560001       NaN        NaN       NaN       NaN       NaN       NaN"
            ]
          },
          "metadata": {
            "tags": []
          },
          "execution_count": 98
        }
      ]
    },
    {
      "cell_type": "code",
      "metadata": {
        "id": "eKtU7oJNkyJ2",
        "colab_type": "code",
        "colab": {}
      },
      "source": [
        "s1.insert(4, \"BB_lat_1\", np.nan) "
      ],
      "execution_count": 0,
      "outputs": []
    },
    {
      "cell_type": "code",
      "metadata": {
        "id": "26VpU0EfkyJ6",
        "colab_type": "code",
        "colab": {}
      },
      "source": [
        "s1.insert(5, \"BB_lat_2\", np.nan) "
      ],
      "execution_count": 0,
      "outputs": []
    },
    {
      "cell_type": "code",
      "metadata": {
        "id": "0CJjzAZgkyJ-",
        "colab_type": "code",
        "colab": {}
      },
      "source": [
        "s1.insert(6, \"BB_lon_1\", np.nan) "
      ],
      "execution_count": 0,
      "outputs": []
    },
    {
      "cell_type": "code",
      "metadata": {
        "id": "LpDG5py1kyKB",
        "colab_type": "code",
        "colab": {}
      },
      "source": [
        "s1.insert(7, \"BB_lon_2\", np.nan) "
      ],
      "execution_count": 0,
      "outputs": []
    },
    {
      "cell_type": "code",
      "metadata": {
        "id": "fDoFwaQokyKF",
        "colab_type": "code",
        "outputId": "0c754796-7003-4bb8-f0ef-a826769bf092",
        "colab": {}
      },
      "source": [
        "s1.head()"
      ],
      "execution_count": 0,
      "outputs": [
        {
          "output_type": "execute_result",
          "data": {
            "text/html": [
              "<div>\n",
              "<style scoped>\n",
              "    .dataframe tbody tr th:only-of-type {\n",
              "        vertical-align: middle;\n",
              "    }\n",
              "\n",
              "    .dataframe tbody tr th {\n",
              "        vertical-align: top;\n",
              "    }\n",
              "\n",
              "    .dataframe thead th {\n",
              "        text-align: right;\n",
              "    }\n",
              "</style>\n",
              "<table border=\"1\" class=\"dataframe\">\n",
              "  <thead>\n",
              "    <tr style=\"text-align: right;\">\n",
              "      <th></th>\n",
              "      <th>Pincode</th>\n",
              "      <th>latitude</th>\n",
              "      <th>longitude</th>\n",
              "      <th>BB_lat_1</th>\n",
              "      <th>BB_lat_2</th>\n",
              "      <th>BB_lon_1</th>\n",
              "      <th>BB_lon_2</th>\n",
              "    </tr>\n",
              "  </thead>\n",
              "  <tbody>\n",
              "    <tr>\n",
              "      <th>0</th>\n",
              "      <td>560001</td>\n",
              "      <td>NaN</td>\n",
              "      <td>NaN</td>\n",
              "      <td>NaN</td>\n",
              "      <td>NaN</td>\n",
              "      <td>NaN</td>\n",
              "      <td>NaN</td>\n",
              "    </tr>\n",
              "    <tr>\n",
              "      <th>1</th>\n",
              "      <td>560002</td>\n",
              "      <td>NaN</td>\n",
              "      <td>NaN</td>\n",
              "      <td>NaN</td>\n",
              "      <td>NaN</td>\n",
              "      <td>NaN</td>\n",
              "      <td>NaN</td>\n",
              "    </tr>\n",
              "    <tr>\n",
              "      <th>2</th>\n",
              "      <td>560003</td>\n",
              "      <td>NaN</td>\n",
              "      <td>NaN</td>\n",
              "      <td>NaN</td>\n",
              "      <td>NaN</td>\n",
              "      <td>NaN</td>\n",
              "      <td>NaN</td>\n",
              "    </tr>\n",
              "    <tr>\n",
              "      <th>3</th>\n",
              "      <td>560004</td>\n",
              "      <td>NaN</td>\n",
              "      <td>NaN</td>\n",
              "      <td>NaN</td>\n",
              "      <td>NaN</td>\n",
              "      <td>NaN</td>\n",
              "      <td>NaN</td>\n",
              "    </tr>\n",
              "    <tr>\n",
              "      <th>4</th>\n",
              "      <td>560005</td>\n",
              "      <td>NaN</td>\n",
              "      <td>NaN</td>\n",
              "      <td>NaN</td>\n",
              "      <td>NaN</td>\n",
              "      <td>NaN</td>\n",
              "      <td>NaN</td>\n",
              "    </tr>\n",
              "  </tbody>\n",
              "</table>\n",
              "</div>"
            ],
            "text/plain": [
              "   Pincode  latitude  longitude  BB_lat_1  BB_lat_2  BB_lon_1  BB_lon_2\n",
              "0   560001       NaN        NaN       NaN       NaN       NaN       NaN\n",
              "1   560002       NaN        NaN       NaN       NaN       NaN       NaN\n",
              "2   560003       NaN        NaN       NaN       NaN       NaN       NaN\n",
              "3   560004       NaN        NaN       NaN       NaN       NaN       NaN\n",
              "4   560005       NaN        NaN       NaN       NaN       NaN       NaN"
            ]
          },
          "metadata": {
            "tags": []
          },
          "execution_count": 99
        }
      ]
    },
    {
      "cell_type": "code",
      "metadata": {
        "id": "67MzLRAjkyKK",
        "colab_type": "code",
        "colab": {}
      },
      "source": [
        "s1.to_csv(\"all_pincodes_box_co.csv\")"
      ],
      "execution_count": 0,
      "outputs": []
    },
    {
      "cell_type": "markdown",
      "metadata": {
        "id": "aFVujIXMoRBA",
        "colab_type": "text"
      },
      "source": [
        "## **The final list contains all the unique pincodes in Banglore.**"
      ]
    },
    {
      "cell_type": "code",
      "metadata": {
        "id": "gSsAAgLjoekM",
        "colab_type": "code",
        "colab": {}
      },
      "source": [
        ""
      ],
      "execution_count": 0,
      "outputs": []
    }
  ]
}