{
 "cells": [
  {
   "cell_type": "markdown",
   "metadata": {},
   "source": [
    "# CONTENTS\n",
    "***\n",
    "[HEADING](#1--HEADING)  \n",
    "[EMPASIS](#2--EMPASIS)  \n",
    "[MATH SYMBOL](#3--MATH-SYMBOL)  \n",
    "[MONOSPACE](#4--MONOSPACE)  \n",
    "[LINE BREAKS](#5--LINE-BREAKS)  \n",
    "[COLORS](#6--COLORS)  \n",
    "[INDENT](#7--INDENTED-QUOTING)  \n",
    "[BULLET](#8--BULLETS)  \n",
    "[NUMBERED LIST](#9--NUMBERED-LIST)  \n",
    "[GRAPHIC](#10--GRAPHICS)  \n",
    "[HORIZONTAL LINE](#11--HORIZONTAL-LINES)  \n",
    "[SECTION TITLE](#12--SECTION-TITLE)  \n",
    "[EXTERNAL LINK](#13--EXTERNAL-LINK)  "
   ]
  },
  {
   "cell_type": "markdown",
   "metadata": {},
   "source": [
    "## 1- HEADING\n",
    "***\n",
    "# Title \n",
    "## major headings \n",
    "### subheadings \n",
    "#### 4th level subheadings"
   ]
  },
  {
   "cell_type": "code",
   "execution_count": null,
   "metadata": {},
   "outputs": [],
   "source": [
    "#     - Title \n",
    "##    - major headings \n",
    "###   - subheadings \n",
    "####  - 4th level subheadings\n"
   ]
  },
  {
   "cell_type": "markdown",
   "metadata": {},
   "source": [
    "## 2- EMPASIS\n",
    "***\n",
    "__Bold__<br>\n",
    "_italic_"
   ]
  },
  {
   "cell_type": "code",
   "execution_count": null,
   "metadata": {},
   "outputs": [],
   "source": [
    "# __text__ || **text**  - Bold\n",
    "_text_ || *text*      - Italic"
   ]
  },
  {
   "cell_type": "markdown",
   "metadata": {},
   "source": [
    "## 3- MATH SYMBOL\n",
    "***\n",
    "$alpha,beta,gamma$"
   ]
  },
  {
   "cell_type": "code",
   "execution_count": null,
   "metadata": {},
   "outputs": [],
   "source": [
    "$text$"
   ]
  },
  {
   "cell_type": "markdown",
   "metadata": {},
   "source": [
    "## 4- MONOSPACE\n",
    "***\n",
    "`the font look like this` suitable for file names & path , code etc"
   ]
  },
  {
   "cell_type": "code",
   "execution_count": null,
   "metadata": {},
   "outputs": [],
   "source": [
    "`text`"
   ]
  },
  {
   "cell_type": "markdown",
   "metadata": {},
   "source": [
    "## 5- LINE BREAKS"
   ]
  },
  {
   "cell_type": "code",
   "execution_count": null,
   "metadata": {},
   "outputs": [],
   "source": [
    "<br>"
   ]
  },
  {
   "cell_type": "markdown",
   "metadata": {},
   "source": [
    "## 6- COLORS\n",
    "***\n",
    "<font color=blue>Blue</font>\n",
    "<font color=green>Green</font>\n",
    "<font color=red>Red</font>\n",
    "<font color=pink>Pink</font>\n",
    "<font color=yellow>Yellow</font>"
   ]
  },
  {
   "cell_type": "code",
   "execution_count": null,
   "metadata": {},
   "outputs": [],
   "source": [
    "<font color=blue|red|green|pink|yellow>Text</font>"
   ]
  },
  {
   "cell_type": "markdown",
   "metadata": {},
   "source": [
    "## 7- INDENTED QUOTING\n",
    "***\n",
    ">indented quotings look like this"
   ]
  },
  {
   "cell_type": "code",
   "execution_count": null,
   "metadata": {},
   "outputs": [],
   "source": [
    ">enter your quotes here"
   ]
  },
  {
   "cell_type": "markdown",
   "metadata": {},
   "source": [
    "## 8- BULLETS\n",
    "***\n",
    "- bullet1\n",
    "- bullet2\n",
    "- bullet3"
   ]
  },
  {
   "cell_type": "code",
   "execution_count": null,
   "metadata": {},
   "outputs": [],
   "source": [
    "- text1\n",
    "- text2"
   ]
  },
  {
   "cell_type": "markdown",
   "metadata": {},
   "source": [
    "## 9- NUMBERED LIST\n",
    "***\n",
    "1. item1\n",
    "2. item2\n",
    "    1. sub1\n",
    "    2. sub2"
   ]
  },
  {
   "cell_type": "code",
   "execution_count": null,
   "metadata": {},
   "outputs": [],
   "source": [
    "1. item1\n",
    "2. item2\n",
    "    1. sub1\n",
    "    2. sub2"
   ]
  },
  {
   "cell_type": "markdown",
   "metadata": {},
   "source": [
    "## 10- GRAPHICS \n",
    "***"
   ]
  },
  {
   "cell_type": "markdown",
   "metadata": {},
   "source": [
    "<img src=\"http://www.clker.com/cliparts/d/3/0/b/1206569743961899636pitr_green_arrows_set_4.svg.med.png\" alt=\"Alt text that describes the graphic\" title=\"Title text\" height=\"100\" width=\"100\" align=\"left\"/> \n",
    "<img src=\"https://cdn1.iconfinder.com/data/icons/social-messaging-ui-color-round-1/254000/42-512.png\" alt=\"Alt text that describes the graphic\" title=\"Title text\" height=\"100\" width=\"100\" align=\"right\"/>\n",
    "<img src=\"data:image/png;base64,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\" alt=\"Alt text that describes the graphic\" title=\"Title text\" height=\"100\" width=\"100\" align=\"middle\"/>"
   ]
  },
  {
   "cell_type": "code",
   "execution_count": null,
   "metadata": {},
   "outputs": [],
   "source": [
    "<img src=\"  \" alt=\"Alt text\" \n",
    "     title=\"Title text\" height=\"100\" width=\"100\" \n",
    "         align=\"left\"/>"
   ]
  },
  {
   "cell_type": "markdown",
   "metadata": {},
   "source": [
    "## 11- HORIZONTAL LINES\n",
    "\n",
    "\n",
    "***"
   ]
  },
  {
   "cell_type": "code",
   "execution_count": null,
   "metadata": {},
   "outputs": [],
   "source": [
    "***"
   ]
  },
  {
   "cell_type": "markdown",
   "metadata": {},
   "source": [
    "## 12- SECTION TITLE\n",
    "***\n",
    "[Heading](#1--HEADING) <br>\n",
    "[Empasis](#2--EMPASIS) <br>\n",
    "[Mathematical symbols](#3--MATH-SYMBOLS)  \n",
    "[Bullets](#8--BULLETS)"
   ]
  },
  {
   "cell_type": "code",
   "execution_count": null,
   "metadata": {},
   "outputs": [],
   "source": [
    "[section title](#section-title)\n",
    "    or \n",
    "<a id = \"section_id\"></a>  [section title](#section_id)"
   ]
  },
  {
   "cell_type": "markdown",
   "metadata": {},
   "source": [
    "## 13- EXTERNAL LINK\n",
    "***\n",
    "[youtube](https://www.youtube.com/)"
   ]
  },
  {
   "cell_type": "code",
   "execution_count": null,
   "metadata": {},
   "outputs": [],
   "source": [
    "[linktext](url)"
   ]
  }
 ],
 "metadata": {
  "kernelspec": {
   "display_name": "Python 3",
   "language": "python",
   "name": "python3"
  },
  "language_info": {
   "codemirror_mode": {
    "name": "ipython",
    "version": 3
   },
   "file_extension": ".py",
   "mimetype": "text/x-python",
   "name": "python",
   "nbconvert_exporter": "python",
   "pygments_lexer": "ipython3",
   "version": "3.7.3"
  }
 },
 "nbformat": 4,
 "nbformat_minor": 2
}
